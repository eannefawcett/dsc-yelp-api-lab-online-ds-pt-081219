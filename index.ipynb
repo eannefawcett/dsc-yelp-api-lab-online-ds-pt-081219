{
 "cells": [
  {
   "cell_type": "markdown",
   "metadata": {},
   "source": [
    "# Yelp API - Lab\n",
    "\n",
    "\n",
    "## Introduction \n",
    "\n",
    "Now that we've seen how the Yelp API works and some basic Folium visualizations, it's time to put those skills to work in order to create a working map! Taking things a step further, you'll also independently explore how to perform pagination in order to retrieve a full results set from the Yelp API!\n",
    "\n",
    "## Objectives\n",
    "\n",
    "You will be able to: \n",
    "* Create HTTP requests to get data from Yelp API\n",
    "* Parse HTTP responses and perform data analysis on the data returned\n",
    "* Perform pagination to retrieve troves of data!\n",
    "* Create a simple geographical system to view information about selected businesses, at a given location. \n",
    "\n",
    "## Problem Introduction\n",
    "\n",
    "You've now worked with some API calls, but we have yet to see how to retrieve a more complete dataset in a programmatic manner. Returning to the Yelp API, the [documentation](https://www.yelp.com/developers/documentation/v3/business_search) also provides us details regarding the API limits. These often include details about the number of requests a user is allowed to make within a specified time limit and the maximum number of results to be returned. In this case, we are told that any request has a maximum of 50 results per request and defaults to 20. Furthermore, any search will be limited to a total of 1000 results. To retrieve all 1000 of these results, we would have to page through the results piece by piece, retrieving 50 at a time. Processes such as these are often referred to as pagination.\n",
    "\n",
    "In this lab, you will define a search and then paginate over the results to retrieve all of the results. You'll then parse these responses as a DataFrame (for further exploration) and create a map using Folium to visualize the results geographically.\n",
    "\n",
    "## Part I - Make the Initial Request\n",
    "\n",
    "Start by making an initial request to the Yelp API. Your search must include at least 2 parameters: **term** and **location**. For example, you might search for pizza restaurants in NYC. The term and location is up to you but make the request below."
   ]
  },
  {
   "cell_type": "code",
   "execution_count": 1,
   "metadata": {},
   "outputs": [
    {
     "data": {
      "text/plain": [
       "True"
      ]
     },
     "execution_count": 1,
     "metadata": {},
     "output_type": "execute_result"
    }
   ],
   "source": [
    "import json\n",
    "import requests\n",
    "\n",
    "# function for loading our api key file\n",
    "def get_keys(path):\n",
    "    with open(path) as f:\n",
    "        return json.load(f)\n",
    "keys = get_keys(\"/Users/eannefawcett/.secret/yelp_api.json\")\n",
    "api_key = keys['api_key']\n",
    "\n",
    "# initial request\n",
    "url = 'https://api.yelp.com/v3/businesses/search'\n",
    "headers = {\n",
    "        'Authorization': 'Bearer {}'.format(api_key),\n",
    "    }\n",
    "url_params = {\n",
    "                'location': 'Denton',\n",
    "                'term' : 'resturant',\n",
    "                'limit' : 50,\n",
    "            }\n",
    "response = requests.get(url, headers=headers, params=url_params)\n",
    "response.status_code == requests.codes.ok"
   ]
  },
  {
   "cell_type": "markdown",
   "metadata": {},
   "source": [
    "## Pagination\n",
    "\n",
    "Now that you have an initial response, you can examine the contents of the JSON container. For example, you might start with ```response.json().keys()```. Here, you'll see a key for `'total'`, which tells you the full number of matching results given your query parameters. Write a loop (or ideally a function) which then makes successive API calls using the offset parameter to retrieve all of the results (or 5000 for a particularly large result set) for the original query. As you do this, be mindful of how you store the data. Your final goal will be to reformat the data concerning the businesses themselves into a pandas DataFrame from the json objects.\n",
    "\n",
    "**Note: be mindful of the API rate limits. You can only make 5000 requests per day and are also can make requests too fast. Start prototyping small before running a loop that could be faulty. You can also use time.sleep(n) to add delays. For more details see https://www.yelp.com/developers/documentation/v3/rate_limiting.**"
   ]
  },
  {
   "cell_type": "code",
   "execution_count": 2,
   "metadata": {},
   "outputs": [
    {
     "data": {
      "text/plain": [
       "dict_keys(['businesses', 'total', 'region'])"
      ]
     },
     "execution_count": 2,
     "metadata": {},
     "output_type": "execute_result"
    }
   ],
   "source": [
    "# Your code here; use a function or loop to retrieve all the results from your original request\n",
    "response.json().keys()"
   ]
  },
  {
   "cell_type": "code",
   "execution_count": 4,
   "metadata": {},
   "outputs": [
    {
     "name": "stdout",
     "output_type": "stream",
     "text": [
      "businesses\n",
      "<class 'list'>\n",
      "\n",
      "\n",
      "total\n",
      "<class 'int'>\n",
      "\n",
      "\n",
      "region\n",
      "<class 'dict'>\n",
      "\n",
      "\n"
     ]
    }
   ],
   "source": [
    "for key in response.json().keys():\n",
    "    print(key)\n",
    "    value = response.json()[key] #Use standard dictionary formatting\n",
    "    print(type(value)) #What type is it?\n",
    "    print('\\n') #Separate out data"
   ]
  },
  {
   "cell_type": "code",
   "execution_count": 5,
   "metadata": {},
   "outputs": [
    {
     "data": {
      "text/plain": [
       "[{'id': 'rYZZ22TdAeZr9Sy3dDp1dQ',\n",
       "  'alias': 'barley-and-board-denton-2',\n",
       "  'name': 'Barley and Board',\n",
       "  'image_url': 'https://s3-media4.fl.yelpcdn.com/bphoto/HLjW8AdrLbSFLBKbL9QUyQ/o.jpg',\n",
       "  'is_closed': False,\n",
       "  'url': 'https://www.yelp.com/biz/barley-and-board-denton-2?adjust_creative=viczuHZwav0Fgi89RPlK5g&utm_campaign=yelp_api_v3&utm_medium=api_v3_business_search&utm_source=viczuHZwav0Fgi89RPlK5g',\n",
       "  'review_count': 756,\n",
       "  'categories': [{'alias': 'newamerican', 'title': 'American (New)'}],\n",
       "  'rating': 4.5,\n",
       "  'coordinates': {'latitude': 33.215690794285, 'longitude': -97.132582782209},\n",
       "  'transactions': [],\n",
       "  'price': '$$',\n",
       "  'location': {'address1': '100 W Oak St',\n",
       "   'address2': '',\n",
       "   'address3': '',\n",
       "   'city': 'Denton',\n",
       "   'zip_code': '76201',\n",
       "   'country': 'US',\n",
       "   'state': 'TX',\n",
       "   'display_address': ['100 W Oak St', 'Denton, TX 76201']},\n",
       "  'phone': '+19405663900',\n",
       "  'display_phone': '(940) 566-3900',\n",
       "  'distance': 677.2786639175243},\n",
       " {'id': 'mbJ7Ig6l05-6IpdFkhVuJQ',\n",
       "  'alias': 'hoochies-denton',\n",
       "  'name': 'Hoochies',\n",
       "  'image_url': 'https://s3-media3.fl.yelpcdn.com/bphoto/vlOQYnIJrKUXVPMTEygZDg/o.jpg',\n",
       "  'is_closed': False,\n",
       "  'url': 'https://www.yelp.com/biz/hoochies-denton?adjust_creative=viczuHZwav0Fgi89RPlK5g&utm_campaign=yelp_api_v3&utm_medium=api_v3_business_search&utm_source=viczuHZwav0Fgi89RPlK5g',\n",
       "  'review_count': 204,\n",
       "  'categories': [{'alias': 'seafood', 'title': 'Seafood'},\n",
       "   {'alias': 'cajun', 'title': 'Cajun/Creole'}],\n",
       "  'rating': 4.0,\n",
       "  'coordinates': {'latitude': 33.2142937407421,\n",
       "   'longitude': -97.1304211766834},\n",
       "  'transactions': [],\n",
       "  'price': '$$',\n",
       "  'location': {'address1': '214 E Hickory St',\n",
       "   'address2': '',\n",
       "   'address3': '',\n",
       "   'city': 'Denton',\n",
       "   'zip_code': '76201',\n",
       "   'country': 'US',\n",
       "   'state': 'TX',\n",
       "   'display_address': ['214 E Hickory St', 'Denton, TX 76201']},\n",
       "  'phone': '+19408080315',\n",
       "  'display_phone': '(940) 808-0315',\n",
       "  'distance': 483.01210523154276}]"
      ]
     },
     "execution_count": 5,
     "metadata": {},
     "output_type": "execute_result"
    }
   ],
   "source": [
    "response.json()['businesses'][:2]"
   ]
  },
  {
   "cell_type": "code",
   "execution_count": 6,
   "metadata": {},
   "outputs": [
    {
     "data": {
      "text/plain": [
       "28"
      ]
     },
     "execution_count": 6,
     "metadata": {},
     "output_type": "execute_result"
    }
   ],
   "source": [
    "response.json()['total']"
   ]
  },
  {
   "cell_type": "code",
   "execution_count": 7,
   "metadata": {},
   "outputs": [
    {
     "data": {
      "text/plain": [
       "{'center': {'longitude': -97.130126953125, 'latitude': 33.20995688420143}}"
      ]
     },
     "execution_count": 7,
     "metadata": {},
     "output_type": "execute_result"
    }
   ],
   "source": [
    "response.json()['region']"
   ]
  },
  {
   "cell_type": "code",
   "execution_count": 21,
   "metadata": {},
   "outputs": [
    {
     "name": "stdout",
     "output_type": "stream",
     "text": [
      "26\n",
      "Index(['id', 'alias', 'name', 'image_url', 'is_closed', 'url', 'review_count',\n",
      "       'categories', 'rating', 'coordinates', 'transactions', 'price',\n",
      "       'location', 'phone', 'display_phone', 'distance'],\n",
      "      dtype='object')\n"
     ]
    },
    {
     "data": {
      "text/html": [
       "<div>\n",
       "<style scoped>\n",
       "    .dataframe tbody tr th:only-of-type {\n",
       "        vertical-align: middle;\n",
       "    }\n",
       "\n",
       "    .dataframe tbody tr th {\n",
       "        vertical-align: top;\n",
       "    }\n",
       "\n",
       "    .dataframe thead th {\n",
       "        text-align: right;\n",
       "    }\n",
       "</style>\n",
       "<table border=\"1\" class=\"dataframe\">\n",
       "  <thead>\n",
       "    <tr style=\"text-align: right;\">\n",
       "      <th></th>\n",
       "      <th>id</th>\n",
       "      <th>alias</th>\n",
       "      <th>name</th>\n",
       "      <th>image_url</th>\n",
       "      <th>is_closed</th>\n",
       "      <th>url</th>\n",
       "      <th>review_count</th>\n",
       "      <th>categories</th>\n",
       "      <th>rating</th>\n",
       "      <th>coordinates</th>\n",
       "      <th>transactions</th>\n",
       "      <th>price</th>\n",
       "      <th>location</th>\n",
       "      <th>phone</th>\n",
       "      <th>display_phone</th>\n",
       "      <th>distance</th>\n",
       "    </tr>\n",
       "  </thead>\n",
       "  <tbody>\n",
       "    <tr>\n",
       "      <td>0</td>\n",
       "      <td>rYZZ22TdAeZr9Sy3dDp1dQ</td>\n",
       "      <td>barley-and-board-denton-2</td>\n",
       "      <td>Barley and Board</td>\n",
       "      <td>https://s3-media4.fl.yelpcdn.com/bphoto/HLjW8A...</td>\n",
       "      <td>False</td>\n",
       "      <td>https://www.yelp.com/biz/barley-and-board-dent...</td>\n",
       "      <td>756</td>\n",
       "      <td>[{'alias': 'newamerican', 'title': 'American (...</td>\n",
       "      <td>4.5</td>\n",
       "      <td>{'latitude': 33.215690794285, 'longitude': -97...</td>\n",
       "      <td>[]</td>\n",
       "      <td>$$</td>\n",
       "      <td>{'address1': '100 W Oak St', 'address2': '', '...</td>\n",
       "      <td>+19405663900</td>\n",
       "      <td>(940) 566-3900</td>\n",
       "      <td>677.278664</td>\n",
       "    </tr>\n",
       "    <tr>\n",
       "      <td>1</td>\n",
       "      <td>mbJ7Ig6l05-6IpdFkhVuJQ</td>\n",
       "      <td>hoochies-denton</td>\n",
       "      <td>Hoochies</td>\n",
       "      <td>https://s3-media3.fl.yelpcdn.com/bphoto/vlOQYn...</td>\n",
       "      <td>False</td>\n",
       "      <td>https://www.yelp.com/biz/hoochies-denton?adjus...</td>\n",
       "      <td>204</td>\n",
       "      <td>[{'alias': 'seafood', 'title': 'Seafood'}, {'a...</td>\n",
       "      <td>4.0</td>\n",
       "      <td>{'latitude': 33.2142937407421, 'longitude': -9...</td>\n",
       "      <td>[]</td>\n",
       "      <td>$$</td>\n",
       "      <td>{'address1': '214 E Hickory St', 'address2': '...</td>\n",
       "      <td>+19408080315</td>\n",
       "      <td>(940) 808-0315</td>\n",
       "      <td>483.012105</td>\n",
       "    </tr>\n",
       "    <tr>\n",
       "      <td>2</td>\n",
       "      <td>LkcT06k4nxfmh2-sctWKdg</td>\n",
       "      <td>green-zatar-denton</td>\n",
       "      <td>Green Zatar</td>\n",
       "      <td>https://s3-media3.fl.yelpcdn.com/bphoto/bkS-vf...</td>\n",
       "      <td>False</td>\n",
       "      <td>https://www.yelp.com/biz/green-zatar-denton?ad...</td>\n",
       "      <td>144</td>\n",
       "      <td>[{'alias': 'mediterranean', 'title': 'Mediterr...</td>\n",
       "      <td>4.0</td>\n",
       "      <td>{'latitude': 33.2293451026846, 'longitude': -9...</td>\n",
       "      <td>[]</td>\n",
       "      <td>$$</td>\n",
       "      <td>{'address1': '609 Sunset St', 'address2': '', ...</td>\n",
       "      <td>+19403832051</td>\n",
       "      <td>(940) 383-2051</td>\n",
       "      <td>2301.823670</td>\n",
       "    </tr>\n",
       "    <tr>\n",
       "      <td>3</td>\n",
       "      <td>YMdCQ_ni_xh0EqpAbwVF0A</td>\n",
       "      <td>feras-italian-restaurant-denton</td>\n",
       "      <td>Fera's Italian Restaurant</td>\n",
       "      <td>https://s3-media2.fl.yelpcdn.com/bphoto/8t3wpO...</td>\n",
       "      <td>False</td>\n",
       "      <td>https://www.yelp.com/biz/feras-italian-restaur...</td>\n",
       "      <td>83</td>\n",
       "      <td>[{'alias': 'italian', 'title': 'Italian'}, {'a...</td>\n",
       "      <td>4.0</td>\n",
       "      <td>{'latitude': 33.21539, 'longitude': -97.14763}</td>\n",
       "      <td>[]</td>\n",
       "      <td>$$</td>\n",
       "      <td>{'address1': '1407 W Oak St', 'address2': '', ...</td>\n",
       "      <td>+19403829577</td>\n",
       "      <td>(940) 382-9577</td>\n",
       "      <td>1749.793929</td>\n",
       "    </tr>\n",
       "    <tr>\n",
       "      <td>4</td>\n",
       "      <td>tpyDb054xPvnlM2327lVXQ</td>\n",
       "      <td>lsa-burger-co-denton</td>\n",
       "      <td>LSA Burger Co</td>\n",
       "      <td>https://s3-media1.fl.yelpcdn.com/bphoto/EzSFqh...</td>\n",
       "      <td>False</td>\n",
       "      <td>https://www.yelp.com/biz/lsa-burger-co-denton?...</td>\n",
       "      <td>840</td>\n",
       "      <td>[{'alias': 'cocktailbars', 'title': 'Cocktail ...</td>\n",
       "      <td>4.0</td>\n",
       "      <td>{'latitude': 33.2142487, 'longitude': -97.1330...</td>\n",
       "      <td>[]</td>\n",
       "      <td>$$</td>\n",
       "      <td>{'address1': '113 W Hickory St', 'address2': '...</td>\n",
       "      <td>+19403831022</td>\n",
       "      <td>(940) 383-1022</td>\n",
       "      <td>553.979364</td>\n",
       "    </tr>\n",
       "  </tbody>\n",
       "</table>\n",
       "</div>"
      ],
      "text/plain": [
       "                       id                            alias  \\\n",
       "0  rYZZ22TdAeZr9Sy3dDp1dQ        barley-and-board-denton-2   \n",
       "1  mbJ7Ig6l05-6IpdFkhVuJQ                  hoochies-denton   \n",
       "2  LkcT06k4nxfmh2-sctWKdg               green-zatar-denton   \n",
       "3  YMdCQ_ni_xh0EqpAbwVF0A  feras-italian-restaurant-denton   \n",
       "4  tpyDb054xPvnlM2327lVXQ             lsa-burger-co-denton   \n",
       "\n",
       "                        name  \\\n",
       "0           Barley and Board   \n",
       "1                   Hoochies   \n",
       "2                Green Zatar   \n",
       "3  Fera's Italian Restaurant   \n",
       "4              LSA Burger Co   \n",
       "\n",
       "                                           image_url  is_closed  \\\n",
       "0  https://s3-media4.fl.yelpcdn.com/bphoto/HLjW8A...      False   \n",
       "1  https://s3-media3.fl.yelpcdn.com/bphoto/vlOQYn...      False   \n",
       "2  https://s3-media3.fl.yelpcdn.com/bphoto/bkS-vf...      False   \n",
       "3  https://s3-media2.fl.yelpcdn.com/bphoto/8t3wpO...      False   \n",
       "4  https://s3-media1.fl.yelpcdn.com/bphoto/EzSFqh...      False   \n",
       "\n",
       "                                                 url  review_count  \\\n",
       "0  https://www.yelp.com/biz/barley-and-board-dent...           756   \n",
       "1  https://www.yelp.com/biz/hoochies-denton?adjus...           204   \n",
       "2  https://www.yelp.com/biz/green-zatar-denton?ad...           144   \n",
       "3  https://www.yelp.com/biz/feras-italian-restaur...            83   \n",
       "4  https://www.yelp.com/biz/lsa-burger-co-denton?...           840   \n",
       "\n",
       "                                          categories  rating  \\\n",
       "0  [{'alias': 'newamerican', 'title': 'American (...     4.5   \n",
       "1  [{'alias': 'seafood', 'title': 'Seafood'}, {'a...     4.0   \n",
       "2  [{'alias': 'mediterranean', 'title': 'Mediterr...     4.0   \n",
       "3  [{'alias': 'italian', 'title': 'Italian'}, {'a...     4.0   \n",
       "4  [{'alias': 'cocktailbars', 'title': 'Cocktail ...     4.0   \n",
       "\n",
       "                                         coordinates transactions price  \\\n",
       "0  {'latitude': 33.215690794285, 'longitude': -97...           []    $$   \n",
       "1  {'latitude': 33.2142937407421, 'longitude': -9...           []    $$   \n",
       "2  {'latitude': 33.2293451026846, 'longitude': -9...           []    $$   \n",
       "3     {'latitude': 33.21539, 'longitude': -97.14763}           []    $$   \n",
       "4  {'latitude': 33.2142487, 'longitude': -97.1330...           []    $$   \n",
       "\n",
       "                                            location         phone  \\\n",
       "0  {'address1': '100 W Oak St', 'address2': '', '...  +19405663900   \n",
       "1  {'address1': '214 E Hickory St', 'address2': '...  +19408080315   \n",
       "2  {'address1': '609 Sunset St', 'address2': '', ...  +19403832051   \n",
       "3  {'address1': '1407 W Oak St', 'address2': '', ...  +19403829577   \n",
       "4  {'address1': '113 W Hickory St', 'address2': '...  +19403831022   \n",
       "\n",
       "    display_phone     distance  \n",
       "0  (940) 566-3900   677.278664  \n",
       "1  (940) 808-0315   483.012105  \n",
       "2  (940) 383-2051  2301.823670  \n",
       "3  (940) 382-9577  1749.793929  \n",
       "4  (940) 383-1022   553.979364  "
      ]
     },
     "execution_count": 21,
     "metadata": {},
     "output_type": "execute_result"
    }
   ],
   "source": [
    "import pandas as pd\n",
    "\n",
    "df = pd.DataFrame.from_dict(response.json()['businesses'])\n",
    "print(len(df)) #Print how many rows\n",
    "print(df.columns) #Print column names\n",
    "df.head() #Previews the first five rows. \n",
    "#You could also write df.head(10) to preview 10 rows or df.tail() to see the bottom"
   ]
  },
  {
   "cell_type": "markdown",
   "metadata": {},
   "source": [
    "## Exploratory Analysis\n",
    "\n",
    "Take the restaurants from the previous question and do an initial exploratory analysis. At minimum, this should include looking at the distribution of features such as price, rating and number of reviews as well as the relations between these dimensions."
   ]
  },
  {
   "cell_type": "code",
   "execution_count": 37,
   "metadata": {},
   "outputs": [],
   "source": [
    "# Your code here\n",
    "df_clean = df.drop('id', axis=1)\n",
    "df_clean = df_clean.drop('alias', axis=1)\n",
    "df_clean = df_clean.drop('is_closed', axis=1)\n",
    "df_clean = df_clean.drop('image_url', axis=1)\n",
    "df_clean = df_clean.drop('categories', axis=1)\n",
    "df_clean = df_clean.drop('transactions', axis=1)\n",
    "df_clean = df_clean.drop('display_phone', axis=1)"
   ]
  },
  {
   "cell_type": "code",
   "execution_count": 38,
   "metadata": {},
   "outputs": [
    {
     "data": {
      "text/html": [
       "<div>\n",
       "<style scoped>\n",
       "    .dataframe tbody tr th:only-of-type {\n",
       "        vertical-align: middle;\n",
       "    }\n",
       "\n",
       "    .dataframe tbody tr th {\n",
       "        vertical-align: top;\n",
       "    }\n",
       "\n",
       "    .dataframe thead th {\n",
       "        text-align: right;\n",
       "    }\n",
       "</style>\n",
       "<table border=\"1\" class=\"dataframe\">\n",
       "  <thead>\n",
       "    <tr style=\"text-align: right;\">\n",
       "      <th></th>\n",
       "      <th>name</th>\n",
       "      <th>url</th>\n",
       "      <th>review_count</th>\n",
       "      <th>rating</th>\n",
       "      <th>coordinates</th>\n",
       "      <th>price</th>\n",
       "      <th>location</th>\n",
       "      <th>phone</th>\n",
       "      <th>distance</th>\n",
       "    </tr>\n",
       "  </thead>\n",
       "  <tbody>\n",
       "    <tr>\n",
       "      <td>0</td>\n",
       "      <td>Barley and Board</td>\n",
       "      <td>https://www.yelp.com/biz/barley-and-board-dent...</td>\n",
       "      <td>756</td>\n",
       "      <td>4.5</td>\n",
       "      <td>{'latitude': 33.215690794285, 'longitude': -97...</td>\n",
       "      <td>$$</td>\n",
       "      <td>{'address1': '100 W Oak St', 'address2': '', '...</td>\n",
       "      <td>+19405663900</td>\n",
       "      <td>677.278664</td>\n",
       "    </tr>\n",
       "    <tr>\n",
       "      <td>1</td>\n",
       "      <td>Hoochies</td>\n",
       "      <td>https://www.yelp.com/biz/hoochies-denton?adjus...</td>\n",
       "      <td>204</td>\n",
       "      <td>4.0</td>\n",
       "      <td>{'latitude': 33.2142937407421, 'longitude': -9...</td>\n",
       "      <td>$$</td>\n",
       "      <td>{'address1': '214 E Hickory St', 'address2': '...</td>\n",
       "      <td>+19408080315</td>\n",
       "      <td>483.012105</td>\n",
       "    </tr>\n",
       "    <tr>\n",
       "      <td>2</td>\n",
       "      <td>Green Zatar</td>\n",
       "      <td>https://www.yelp.com/biz/green-zatar-denton?ad...</td>\n",
       "      <td>144</td>\n",
       "      <td>4.0</td>\n",
       "      <td>{'latitude': 33.2293451026846, 'longitude': -9...</td>\n",
       "      <td>$$</td>\n",
       "      <td>{'address1': '609 Sunset St', 'address2': '', ...</td>\n",
       "      <td>+19403832051</td>\n",
       "      <td>2301.823670</td>\n",
       "    </tr>\n",
       "    <tr>\n",
       "      <td>3</td>\n",
       "      <td>Fera's Italian Restaurant</td>\n",
       "      <td>https://www.yelp.com/biz/feras-italian-restaur...</td>\n",
       "      <td>83</td>\n",
       "      <td>4.0</td>\n",
       "      <td>{'latitude': 33.21539, 'longitude': -97.14763}</td>\n",
       "      <td>$$</td>\n",
       "      <td>{'address1': '1407 W Oak St', 'address2': '', ...</td>\n",
       "      <td>+19403829577</td>\n",
       "      <td>1749.793929</td>\n",
       "    </tr>\n",
       "    <tr>\n",
       "      <td>4</td>\n",
       "      <td>LSA Burger Co</td>\n",
       "      <td>https://www.yelp.com/biz/lsa-burger-co-denton?...</td>\n",
       "      <td>840</td>\n",
       "      <td>4.0</td>\n",
       "      <td>{'latitude': 33.2142487, 'longitude': -97.1330...</td>\n",
       "      <td>$$</td>\n",
       "      <td>{'address1': '113 W Hickory St', 'address2': '...</td>\n",
       "      <td>+19403831022</td>\n",
       "      <td>553.979364</td>\n",
       "    </tr>\n",
       "  </tbody>\n",
       "</table>\n",
       "</div>"
      ],
      "text/plain": [
       "                        name  \\\n",
       "0           Barley and Board   \n",
       "1                   Hoochies   \n",
       "2                Green Zatar   \n",
       "3  Fera's Italian Restaurant   \n",
       "4              LSA Burger Co   \n",
       "\n",
       "                                                 url  review_count  rating  \\\n",
       "0  https://www.yelp.com/biz/barley-and-board-dent...           756     4.5   \n",
       "1  https://www.yelp.com/biz/hoochies-denton?adjus...           204     4.0   \n",
       "2  https://www.yelp.com/biz/green-zatar-denton?ad...           144     4.0   \n",
       "3  https://www.yelp.com/biz/feras-italian-restaur...            83     4.0   \n",
       "4  https://www.yelp.com/biz/lsa-burger-co-denton?...           840     4.0   \n",
       "\n",
       "                                         coordinates price  \\\n",
       "0  {'latitude': 33.215690794285, 'longitude': -97...    $$   \n",
       "1  {'latitude': 33.2142937407421, 'longitude': -9...    $$   \n",
       "2  {'latitude': 33.2293451026846, 'longitude': -9...    $$   \n",
       "3     {'latitude': 33.21539, 'longitude': -97.14763}    $$   \n",
       "4  {'latitude': 33.2142487, 'longitude': -97.1330...    $$   \n",
       "\n",
       "                                            location         phone  \\\n",
       "0  {'address1': '100 W Oak St', 'address2': '', '...  +19405663900   \n",
       "1  {'address1': '214 E Hickory St', 'address2': '...  +19408080315   \n",
       "2  {'address1': '609 Sunset St', 'address2': '', ...  +19403832051   \n",
       "3  {'address1': '1407 W Oak St', 'address2': '', ...  +19403829577   \n",
       "4  {'address1': '113 W Hickory St', 'address2': '...  +19403831022   \n",
       "\n",
       "      distance  \n",
       "0   677.278664  \n",
       "1   483.012105  \n",
       "2  2301.823670  \n",
       "3  1749.793929  \n",
       "4   553.979364  "
      ]
     },
     "execution_count": 38,
     "metadata": {},
     "output_type": "execute_result"
    }
   ],
   "source": [
    "df_clean.head()"
   ]
  },
  {
   "cell_type": "code",
   "execution_count": 39,
   "metadata": {},
   "outputs": [
    {
     "data": {
      "text/plain": [
       "name            0\n",
       "url             0\n",
       "review_count    0\n",
       "rating          0\n",
       "coordinates     0\n",
       "price           1\n",
       "location        0\n",
       "phone           0\n",
       "distance        0\n",
       "dtype: int64"
      ]
     },
     "execution_count": 39,
     "metadata": {},
     "output_type": "execute_result"
    }
   ],
   "source": [
    "df_clean.isna().sum()"
   ]
  },
  {
   "cell_type": "code",
   "execution_count": 40,
   "metadata": {},
   "outputs": [
    {
     "data": {
      "text/plain": [
       "name            0\n",
       "url             0\n",
       "review_count    0\n",
       "rating          0\n",
       "coordinates     0\n",
       "price           0\n",
       "location        0\n",
       "phone           0\n",
       "distance        0\n",
       "dtype: int64"
      ]
     },
     "execution_count": 40,
     "metadata": {},
     "output_type": "execute_result"
    }
   ],
   "source": [
    "df_clean = df_clean.dropna()\n",
    "df_clean.isna().sum()"
   ]
  },
  {
   "cell_type": "code",
   "execution_count": 41,
   "metadata": {},
   "outputs": [
    {
     "name": "stdout",
     "output_type": "stream",
     "text": [
      "<class 'pandas.core.frame.DataFrame'>\n",
      "Int64Index: 25 entries, 0 to 25\n",
      "Data columns (total 9 columns):\n",
      "name            25 non-null object\n",
      "url             25 non-null object\n",
      "review_count    25 non-null int64\n",
      "rating          25 non-null float64\n",
      "coordinates     25 non-null object\n",
      "price           25 non-null object\n",
      "location        25 non-null object\n",
      "phone           25 non-null object\n",
      "distance        25 non-null float64\n",
      "dtypes: float64(2), int64(1), object(6)\n",
      "memory usage: 2.0+ KB\n"
     ]
    }
   ],
   "source": [
    "df_clean.info()"
   ]
  },
  {
   "cell_type": "code",
   "execution_count": 45,
   "metadata": {},
   "outputs": [
    {
     "ename": "KeyError",
     "evalue": "'0     0     0     $$\\\\n1     $$\\\\n2     $$\\\\n3     $$\\\\n...\\n1     0     0     $$\\\\n1     $$\\\\n2     $$\\\\n3     $$\\\\n...\\n2     0     0     $$\\\\n1     $$\\\\n2     $$\\\\n3     $$\\\\n...\\n3     0     0     $$\\\\n1     $$\\\\n2     $$\\\\n3     $$\\\\n...\\n4     0     0     $$\\\\n1     $$\\\\n2     $$\\\\n3     $$\\\\n...\\n5     0     0     $$\\\\n1     $$\\\\n2     $$\\\\n3     $$\\\\n...\\n6     0     0     $$\\\\n1     $$\\\\n2     $$\\\\n3     $$\\\\n...\\n7     0     0     $$\\\\n1     $$\\\\n2     $$\\\\n3     $$\\\\n...\\n8     0     0     $$\\\\n1     $$\\\\n2     $$\\\\n3     $$\\\\n...\\n9     0     0     $$\\\\n1     $$\\\\n2     $$\\\\n3     $$\\\\n...\\n10    0     0     $$\\\\n1     $$\\\\n2     $$\\\\n3     $$\\\\n...\\n11    0     0     $$\\\\n1     $$\\\\n2     $$\\\\n3     $$\\\\n...\\n12    0     0     $$\\\\n1     $$\\\\n2     $$\\\\n3     $$\\\\n...\\n13    0     0     $$\\\\n1     $$\\\\n2     $$\\\\n3     $$\\\\n...\\n14    0     0     $$\\\\n1     $$\\\\n2     $$\\\\n3     $$\\\\n...\\n15    0     0     $$\\\\n1     $$\\\\n2     $$\\\\n3     $$\\\\n...\\n16    0     0     $$\\\\n1     $$\\\\n2     $$\\\\n3     $$\\\\n...\\n17    0     0     $$\\\\n1     $$\\\\n2     $$\\\\n3     $$\\\\n...\\n18    0     0     $$\\\\n1     $$\\\\n2     $$\\\\n3     $$\\\\n...\\n19    0     0     $$\\\\n1     $$\\\\n2     $$\\\\n3     $$\\\\n...\\n20    0     0     $$\\\\n1     $$\\\\n2     $$\\\\n3     $$\\\\n...\\n21    0     0     $$\\\\n1     $$\\\\n2     $$\\\\n3     $$\\\\n...\\n22    0     0     $$\\\\n1     $$\\\\n2     $$\\\\n3     $$\\\\n...\\n23    0     0     $$\\\\n1     $$\\\\n2     $$\\\\n3     $$\\\\n...\\n25    0     0     $$\\\\n1     $$\\\\n2     $$\\\\n3     $$\\\\n...\\nName: price, dtype: object'",
     "output_type": "error",
     "traceback": [
      "\u001b[1;31m---------------------------------------------------------------------------\u001b[0m",
      "\u001b[1;31mKeyError\u001b[0m                                  Traceback (most recent call last)",
      "\u001b[1;32m~\\Anaconda3\\lib\\site-packages\\pandas\\core\\indexes\\base.py\u001b[0m in \u001b[0;36mget_loc\u001b[1;34m(self, key, method, tolerance)\u001b[0m\n\u001b[0;32m   2896\u001b[0m             \u001b[1;32mtry\u001b[0m\u001b[1;33m:\u001b[0m\u001b[1;33m\u001b[0m\u001b[1;33m\u001b[0m\u001b[0m\n\u001b[1;32m-> 2897\u001b[1;33m                 \u001b[1;32mreturn\u001b[0m \u001b[0mself\u001b[0m\u001b[1;33m.\u001b[0m\u001b[0m_engine\u001b[0m\u001b[1;33m.\u001b[0m\u001b[0mget_loc\u001b[0m\u001b[1;33m(\u001b[0m\u001b[0mkey\u001b[0m\u001b[1;33m)\u001b[0m\u001b[1;33m\u001b[0m\u001b[1;33m\u001b[0m\u001b[0m\n\u001b[0m\u001b[0;32m   2898\u001b[0m             \u001b[1;32mexcept\u001b[0m \u001b[0mKeyError\u001b[0m\u001b[1;33m:\u001b[0m\u001b[1;33m\u001b[0m\u001b[1;33m\u001b[0m\u001b[0m\n",
      "\u001b[1;32mpandas\\_libs\\index.pyx\u001b[0m in \u001b[0;36mpandas._libs.index.IndexEngine.get_loc\u001b[1;34m()\u001b[0m\n",
      "\u001b[1;32mpandas\\_libs\\index.pyx\u001b[0m in \u001b[0;36mpandas._libs.index.IndexEngine.get_loc\u001b[1;34m()\u001b[0m\n",
      "\u001b[1;32mpandas\\_libs\\index_class_helper.pxi\u001b[0m in \u001b[0;36mpandas._libs.index.Int64Engine._check_type\u001b[1;34m()\u001b[0m\n",
      "\u001b[1;31mKeyError\u001b[0m: '0     0     0     $$\\\\n1     $$\\\\n2     $$\\\\n3     $$\\\\n...\\n1     0     0     $$\\\\n1     $$\\\\n2     $$\\\\n3     $$\\\\n...\\n2     0     0     $$\\\\n1     $$\\\\n2     $$\\\\n3     $$\\\\n...\\n3     0     0     $$\\\\n1     $$\\\\n2     $$\\\\n3     $$\\\\n...\\n4     0     0     $$\\\\n1     $$\\\\n2     $$\\\\n3     $$\\\\n...\\n5     0     0     $$\\\\n1     $$\\\\n2     $$\\\\n3     $$\\\\n...\\n6     0     0     $$\\\\n1     $$\\\\n2     $$\\\\n3     $$\\\\n...\\n7     0     0     $$\\\\n1     $$\\\\n2     $$\\\\n3     $$\\\\n...\\n8     0     0     $$\\\\n1     $$\\\\n2     $$\\\\n3     $$\\\\n...\\n9     0     0     $$\\\\n1     $$\\\\n2     $$\\\\n3     $$\\\\n...\\n10    0     0     $$\\\\n1     $$\\\\n2     $$\\\\n3     $$\\\\n...\\n11    0     0     $$\\\\n1     $$\\\\n2     $$\\\\n3     $$\\\\n...\\n12    0     0     $$\\\\n1     $$\\\\n2     $$\\\\n3     $$\\\\n...\\n13    0     0     $$\\\\n1     $$\\\\n2     $$\\\\n3     $$\\\\n...\\n14    0     0     $$\\\\n1     $$\\\\n2     $$\\\\n3     $$\\\\n...\\n15    0     0     $$\\\\n1     $$\\\\n2     $$\\\\n3     $$\\\\n...\\n16    0     0     $$\\\\n1     $$\\\\n2     $$\\\\n3     $$\\\\n...\\n17    0     0     $$\\\\n1     $$\\\\n2     $$\\\\n3     $$\\\\n...\\n18    0     0     $$\\\\n1     $$\\\\n2     $$\\\\n3     $$\\\\n...\\n19    0     0     $$\\\\n1     $$\\\\n2     $$\\\\n3     $$\\\\n...\\n20    0     0     $$\\\\n1     $$\\\\n2     $$\\\\n3     $$\\\\n...\\n21    0     0     $$\\\\n1     $$\\\\n2     $$\\\\n3     $$\\\\n...\\n22    0     0     $$\\\\n1     $$\\\\n2     $$\\\\n3     $$\\\\n...\\n23    0     0     $$\\\\n1     $$\\\\n2     $$\\\\n3     $$\\\\n...\\n25    0     0     $$\\\\n1     $$\\\\n2     $$\\\\n3     $$\\\\n...\\nName: price, dtype: object'",
      "\nDuring handling of the above exception, another exception occurred:\n",
      "\u001b[1;31mKeyError\u001b[0m                                  Traceback (most recent call last)",
      "\u001b[1;32m<ipython-input-45-2bfd972b63cd>\u001b[0m in \u001b[0;36m<module>\u001b[1;34m\u001b[0m\n\u001b[0;32m      1\u001b[0m \u001b[1;32mfor\u001b[0m \u001b[0mi\u001b[0m \u001b[1;32min\u001b[0m \u001b[0mdf_clean\u001b[0m\u001b[1;33m[\u001b[0m\u001b[1;34m'price'\u001b[0m\u001b[1;33m]\u001b[0m\u001b[1;33m:\u001b[0m\u001b[1;33m\u001b[0m\u001b[1;33m\u001b[0m\u001b[0m\n\u001b[1;32m----> 2\u001b[1;33m     \u001b[0mdf_clean\u001b[0m\u001b[1;33m[\u001b[0m\u001b[1;34m'price'\u001b[0m\u001b[1;33m]\u001b[0m \u001b[1;33m=\u001b[0m \u001b[0mlen\u001b[0m\u001b[1;33m(\u001b[0m\u001b[0mstr\u001b[0m\u001b[1;33m(\u001b[0m\u001b[0mdf_clean\u001b[0m\u001b[1;33m.\u001b[0m\u001b[0mloc\u001b[0m\u001b[1;33m[\u001b[0m\u001b[0mi\u001b[0m\u001b[1;33m,\u001b[0m\u001b[0mdf_clean\u001b[0m\u001b[1;33m[\u001b[0m\u001b[1;34m'price'\u001b[0m\u001b[1;33m]\u001b[0m\u001b[1;33m]\u001b[0m\u001b[1;33m)\u001b[0m\u001b[1;33m)\u001b[0m\u001b[1;33m\u001b[0m\u001b[1;33m\u001b[0m\u001b[0m\n\u001b[0m\u001b[0;32m      3\u001b[0m \u001b[0mdf_clean\u001b[0m\u001b[1;33m.\u001b[0m\u001b[0mhead\u001b[0m\u001b[1;33m(\u001b[0m\u001b[1;33m)\u001b[0m\u001b[1;33m\u001b[0m\u001b[1;33m\u001b[0m\u001b[0m\n",
      "\u001b[1;32m~\\Anaconda3\\lib\\site-packages\\pandas\\core\\indexing.py\u001b[0m in \u001b[0;36m__getitem__\u001b[1;34m(self, key)\u001b[0m\n\u001b[0;32m   1416\u001b[0m                 \u001b[1;32mexcept\u001b[0m \u001b[1;33m(\u001b[0m\u001b[0mKeyError\u001b[0m\u001b[1;33m,\u001b[0m \u001b[0mIndexError\u001b[0m\u001b[1;33m,\u001b[0m \u001b[0mAttributeError\u001b[0m\u001b[1;33m)\u001b[0m\u001b[1;33m:\u001b[0m\u001b[1;33m\u001b[0m\u001b[1;33m\u001b[0m\u001b[0m\n\u001b[0;32m   1417\u001b[0m                     \u001b[1;32mpass\u001b[0m\u001b[1;33m\u001b[0m\u001b[1;33m\u001b[0m\u001b[0m\n\u001b[1;32m-> 1418\u001b[1;33m             \u001b[1;32mreturn\u001b[0m \u001b[0mself\u001b[0m\u001b[1;33m.\u001b[0m\u001b[0m_getitem_tuple\u001b[0m\u001b[1;33m(\u001b[0m\u001b[0mkey\u001b[0m\u001b[1;33m)\u001b[0m\u001b[1;33m\u001b[0m\u001b[1;33m\u001b[0m\u001b[0m\n\u001b[0m\u001b[0;32m   1419\u001b[0m         \u001b[1;32melse\u001b[0m\u001b[1;33m:\u001b[0m\u001b[1;33m\u001b[0m\u001b[1;33m\u001b[0m\u001b[0m\n\u001b[0;32m   1420\u001b[0m             \u001b[1;31m# we by definition only have the 0th axis\u001b[0m\u001b[1;33m\u001b[0m\u001b[1;33m\u001b[0m\u001b[1;33m\u001b[0m\u001b[0m\n",
      "\u001b[1;32m~\\Anaconda3\\lib\\site-packages\\pandas\\core\\indexing.py\u001b[0m in \u001b[0;36m_getitem_tuple\u001b[1;34m(self, tup)\u001b[0m\n\u001b[0;32m    803\u001b[0m     \u001b[1;32mdef\u001b[0m \u001b[0m_getitem_tuple\u001b[0m\u001b[1;33m(\u001b[0m\u001b[0mself\u001b[0m\u001b[1;33m,\u001b[0m \u001b[0mtup\u001b[0m\u001b[1;33m)\u001b[0m\u001b[1;33m:\u001b[0m\u001b[1;33m\u001b[0m\u001b[1;33m\u001b[0m\u001b[0m\n\u001b[0;32m    804\u001b[0m         \u001b[1;32mtry\u001b[0m\u001b[1;33m:\u001b[0m\u001b[1;33m\u001b[0m\u001b[1;33m\u001b[0m\u001b[0m\n\u001b[1;32m--> 805\u001b[1;33m             \u001b[1;32mreturn\u001b[0m \u001b[0mself\u001b[0m\u001b[1;33m.\u001b[0m\u001b[0m_getitem_lowerdim\u001b[0m\u001b[1;33m(\u001b[0m\u001b[0mtup\u001b[0m\u001b[1;33m)\u001b[0m\u001b[1;33m\u001b[0m\u001b[1;33m\u001b[0m\u001b[0m\n\u001b[0m\u001b[0;32m    806\u001b[0m         \u001b[1;32mexcept\u001b[0m \u001b[0mIndexingError\u001b[0m\u001b[1;33m:\u001b[0m\u001b[1;33m\u001b[0m\u001b[1;33m\u001b[0m\u001b[0m\n\u001b[0;32m    807\u001b[0m             \u001b[1;32mpass\u001b[0m\u001b[1;33m\u001b[0m\u001b[1;33m\u001b[0m\u001b[0m\n",
      "\u001b[1;32m~\\Anaconda3\\lib\\site-packages\\pandas\\core\\indexing.py\u001b[0m in \u001b[0;36m_getitem_lowerdim\u001b[1;34m(self, tup)\u001b[0m\n\u001b[0;32m    927\u001b[0m         \u001b[1;32mfor\u001b[0m \u001b[0mi\u001b[0m\u001b[1;33m,\u001b[0m \u001b[0mkey\u001b[0m \u001b[1;32min\u001b[0m \u001b[0menumerate\u001b[0m\u001b[1;33m(\u001b[0m\u001b[0mtup\u001b[0m\u001b[1;33m)\u001b[0m\u001b[1;33m:\u001b[0m\u001b[1;33m\u001b[0m\u001b[1;33m\u001b[0m\u001b[0m\n\u001b[0;32m    928\u001b[0m             \u001b[1;32mif\u001b[0m \u001b[0mis_label_like\u001b[0m\u001b[1;33m(\u001b[0m\u001b[0mkey\u001b[0m\u001b[1;33m)\u001b[0m \u001b[1;32mor\u001b[0m \u001b[0misinstance\u001b[0m\u001b[1;33m(\u001b[0m\u001b[0mkey\u001b[0m\u001b[1;33m,\u001b[0m \u001b[0mtuple\u001b[0m\u001b[1;33m)\u001b[0m\u001b[1;33m:\u001b[0m\u001b[1;33m\u001b[0m\u001b[1;33m\u001b[0m\u001b[0m\n\u001b[1;32m--> 929\u001b[1;33m                 \u001b[0msection\u001b[0m \u001b[1;33m=\u001b[0m \u001b[0mself\u001b[0m\u001b[1;33m.\u001b[0m\u001b[0m_getitem_axis\u001b[0m\u001b[1;33m(\u001b[0m\u001b[0mkey\u001b[0m\u001b[1;33m,\u001b[0m \u001b[0maxis\u001b[0m\u001b[1;33m=\u001b[0m\u001b[0mi\u001b[0m\u001b[1;33m)\u001b[0m\u001b[1;33m\u001b[0m\u001b[1;33m\u001b[0m\u001b[0m\n\u001b[0m\u001b[0;32m    930\u001b[0m \u001b[1;33m\u001b[0m\u001b[0m\n\u001b[0;32m    931\u001b[0m                 \u001b[1;31m# we have yielded a scalar ?\u001b[0m\u001b[1;33m\u001b[0m\u001b[1;33m\u001b[0m\u001b[1;33m\u001b[0m\u001b[0m\n",
      "\u001b[1;32m~\\Anaconda3\\lib\\site-packages\\pandas\\core\\indexing.py\u001b[0m in \u001b[0;36m_getitem_axis\u001b[1;34m(self, key, axis)\u001b[0m\n\u001b[0;32m   1848\u001b[0m         \u001b[1;31m# fall thru to straight lookup\u001b[0m\u001b[1;33m\u001b[0m\u001b[1;33m\u001b[0m\u001b[1;33m\u001b[0m\u001b[0m\n\u001b[0;32m   1849\u001b[0m         \u001b[0mself\u001b[0m\u001b[1;33m.\u001b[0m\u001b[0m_validate_key\u001b[0m\u001b[1;33m(\u001b[0m\u001b[0mkey\u001b[0m\u001b[1;33m,\u001b[0m \u001b[0maxis\u001b[0m\u001b[1;33m)\u001b[0m\u001b[1;33m\u001b[0m\u001b[1;33m\u001b[0m\u001b[0m\n\u001b[1;32m-> 1850\u001b[1;33m         \u001b[1;32mreturn\u001b[0m \u001b[0mself\u001b[0m\u001b[1;33m.\u001b[0m\u001b[0m_get_label\u001b[0m\u001b[1;33m(\u001b[0m\u001b[0mkey\u001b[0m\u001b[1;33m,\u001b[0m \u001b[0maxis\u001b[0m\u001b[1;33m=\u001b[0m\u001b[0maxis\u001b[0m\u001b[1;33m)\u001b[0m\u001b[1;33m\u001b[0m\u001b[1;33m\u001b[0m\u001b[0m\n\u001b[0m\u001b[0;32m   1851\u001b[0m \u001b[1;33m\u001b[0m\u001b[0m\n\u001b[0;32m   1852\u001b[0m \u001b[1;33m\u001b[0m\u001b[0m\n",
      "\u001b[1;32m~\\Anaconda3\\lib\\site-packages\\pandas\\core\\indexing.py\u001b[0m in \u001b[0;36m_get_label\u001b[1;34m(self, label, axis)\u001b[0m\n\u001b[0;32m    158\u001b[0m             \u001b[1;32mraise\u001b[0m \u001b[0mIndexingError\u001b[0m\u001b[1;33m(\u001b[0m\u001b[1;34m\"no slices here, handle elsewhere\"\u001b[0m\u001b[1;33m)\u001b[0m\u001b[1;33m\u001b[0m\u001b[1;33m\u001b[0m\u001b[0m\n\u001b[0;32m    159\u001b[0m \u001b[1;33m\u001b[0m\u001b[0m\n\u001b[1;32m--> 160\u001b[1;33m         \u001b[1;32mreturn\u001b[0m \u001b[0mself\u001b[0m\u001b[1;33m.\u001b[0m\u001b[0mobj\u001b[0m\u001b[1;33m.\u001b[0m\u001b[0m_xs\u001b[0m\u001b[1;33m(\u001b[0m\u001b[0mlabel\u001b[0m\u001b[1;33m,\u001b[0m \u001b[0maxis\u001b[0m\u001b[1;33m=\u001b[0m\u001b[0maxis\u001b[0m\u001b[1;33m)\u001b[0m\u001b[1;33m\u001b[0m\u001b[1;33m\u001b[0m\u001b[0m\n\u001b[0m\u001b[0;32m    161\u001b[0m \u001b[1;33m\u001b[0m\u001b[0m\n\u001b[0;32m    162\u001b[0m     \u001b[1;32mdef\u001b[0m \u001b[0m_get_loc\u001b[0m\u001b[1;33m(\u001b[0m\u001b[0mself\u001b[0m\u001b[1;33m,\u001b[0m \u001b[0mkey\u001b[0m\u001b[1;33m:\u001b[0m \u001b[0mint\u001b[0m\u001b[1;33m,\u001b[0m \u001b[0maxis\u001b[0m\u001b[1;33m:\u001b[0m \u001b[0mint\u001b[0m\u001b[1;33m)\u001b[0m\u001b[1;33m:\u001b[0m\u001b[1;33m\u001b[0m\u001b[1;33m\u001b[0m\u001b[0m\n",
      "\u001b[1;32m~\\Anaconda3\\lib\\site-packages\\pandas\\core\\generic.py\u001b[0m in \u001b[0;36mxs\u001b[1;34m(self, key, axis, level, drop_level)\u001b[0m\n\u001b[0;32m   3735\u001b[0m             \u001b[0mloc\u001b[0m\u001b[1;33m,\u001b[0m \u001b[0mnew_index\u001b[0m \u001b[1;33m=\u001b[0m \u001b[0mself\u001b[0m\u001b[1;33m.\u001b[0m\u001b[0mindex\u001b[0m\u001b[1;33m.\u001b[0m\u001b[0mget_loc_level\u001b[0m\u001b[1;33m(\u001b[0m\u001b[0mkey\u001b[0m\u001b[1;33m,\u001b[0m \u001b[0mdrop_level\u001b[0m\u001b[1;33m=\u001b[0m\u001b[0mdrop_level\u001b[0m\u001b[1;33m)\u001b[0m\u001b[1;33m\u001b[0m\u001b[1;33m\u001b[0m\u001b[0m\n\u001b[0;32m   3736\u001b[0m         \u001b[1;32melse\u001b[0m\u001b[1;33m:\u001b[0m\u001b[1;33m\u001b[0m\u001b[1;33m\u001b[0m\u001b[0m\n\u001b[1;32m-> 3737\u001b[1;33m             \u001b[0mloc\u001b[0m \u001b[1;33m=\u001b[0m \u001b[0mself\u001b[0m\u001b[1;33m.\u001b[0m\u001b[0mindex\u001b[0m\u001b[1;33m.\u001b[0m\u001b[0mget_loc\u001b[0m\u001b[1;33m(\u001b[0m\u001b[0mkey\u001b[0m\u001b[1;33m)\u001b[0m\u001b[1;33m\u001b[0m\u001b[1;33m\u001b[0m\u001b[0m\n\u001b[0m\u001b[0;32m   3738\u001b[0m \u001b[1;33m\u001b[0m\u001b[0m\n\u001b[0;32m   3739\u001b[0m             \u001b[1;32mif\u001b[0m \u001b[0misinstance\u001b[0m\u001b[1;33m(\u001b[0m\u001b[0mloc\u001b[0m\u001b[1;33m,\u001b[0m \u001b[0mnp\u001b[0m\u001b[1;33m.\u001b[0m\u001b[0mndarray\u001b[0m\u001b[1;33m)\u001b[0m\u001b[1;33m:\u001b[0m\u001b[1;33m\u001b[0m\u001b[1;33m\u001b[0m\u001b[0m\n",
      "\u001b[1;32m~\\Anaconda3\\lib\\site-packages\\pandas\\core\\indexes\\base.py\u001b[0m in \u001b[0;36mget_loc\u001b[1;34m(self, key, method, tolerance)\u001b[0m\n\u001b[0;32m   2897\u001b[0m                 \u001b[1;32mreturn\u001b[0m \u001b[0mself\u001b[0m\u001b[1;33m.\u001b[0m\u001b[0m_engine\u001b[0m\u001b[1;33m.\u001b[0m\u001b[0mget_loc\u001b[0m\u001b[1;33m(\u001b[0m\u001b[0mkey\u001b[0m\u001b[1;33m)\u001b[0m\u001b[1;33m\u001b[0m\u001b[1;33m\u001b[0m\u001b[0m\n\u001b[0;32m   2898\u001b[0m             \u001b[1;32mexcept\u001b[0m \u001b[0mKeyError\u001b[0m\u001b[1;33m:\u001b[0m\u001b[1;33m\u001b[0m\u001b[1;33m\u001b[0m\u001b[0m\n\u001b[1;32m-> 2899\u001b[1;33m                 \u001b[1;32mreturn\u001b[0m \u001b[0mself\u001b[0m\u001b[1;33m.\u001b[0m\u001b[0m_engine\u001b[0m\u001b[1;33m.\u001b[0m\u001b[0mget_loc\u001b[0m\u001b[1;33m(\u001b[0m\u001b[0mself\u001b[0m\u001b[1;33m.\u001b[0m\u001b[0m_maybe_cast_indexer\u001b[0m\u001b[1;33m(\u001b[0m\u001b[0mkey\u001b[0m\u001b[1;33m)\u001b[0m\u001b[1;33m)\u001b[0m\u001b[1;33m\u001b[0m\u001b[1;33m\u001b[0m\u001b[0m\n\u001b[0m\u001b[0;32m   2900\u001b[0m         \u001b[0mindexer\u001b[0m \u001b[1;33m=\u001b[0m \u001b[0mself\u001b[0m\u001b[1;33m.\u001b[0m\u001b[0mget_indexer\u001b[0m\u001b[1;33m(\u001b[0m\u001b[1;33m[\u001b[0m\u001b[0mkey\u001b[0m\u001b[1;33m]\u001b[0m\u001b[1;33m,\u001b[0m \u001b[0mmethod\u001b[0m\u001b[1;33m=\u001b[0m\u001b[0mmethod\u001b[0m\u001b[1;33m,\u001b[0m \u001b[0mtolerance\u001b[0m\u001b[1;33m=\u001b[0m\u001b[0mtolerance\u001b[0m\u001b[1;33m)\u001b[0m\u001b[1;33m\u001b[0m\u001b[1;33m\u001b[0m\u001b[0m\n\u001b[0;32m   2901\u001b[0m         \u001b[1;32mif\u001b[0m \u001b[0mindexer\u001b[0m\u001b[1;33m.\u001b[0m\u001b[0mndim\u001b[0m \u001b[1;33m>\u001b[0m \u001b[1;36m1\u001b[0m \u001b[1;32mor\u001b[0m \u001b[0mindexer\u001b[0m\u001b[1;33m.\u001b[0m\u001b[0msize\u001b[0m \u001b[1;33m>\u001b[0m \u001b[1;36m1\u001b[0m\u001b[1;33m:\u001b[0m\u001b[1;33m\u001b[0m\u001b[1;33m\u001b[0m\u001b[0m\n",
      "\u001b[1;32mpandas\\_libs\\index.pyx\u001b[0m in \u001b[0;36mpandas._libs.index.IndexEngine.get_loc\u001b[1;34m()\u001b[0m\n",
      "\u001b[1;32mpandas\\_libs\\index.pyx\u001b[0m in \u001b[0;36mpandas._libs.index.IndexEngine.get_loc\u001b[1;34m()\u001b[0m\n",
      "\u001b[1;32mpandas\\_libs\\index_class_helper.pxi\u001b[0m in \u001b[0;36mpandas._libs.index.Int64Engine._check_type\u001b[1;34m()\u001b[0m\n",
      "\u001b[1;31mKeyError\u001b[0m: '0     0     0     $$\\\\n1     $$\\\\n2     $$\\\\n3     $$\\\\n...\\n1     0     0     $$\\\\n1     $$\\\\n2     $$\\\\n3     $$\\\\n...\\n2     0     0     $$\\\\n1     $$\\\\n2     $$\\\\n3     $$\\\\n...\\n3     0     0     $$\\\\n1     $$\\\\n2     $$\\\\n3     $$\\\\n...\\n4     0     0     $$\\\\n1     $$\\\\n2     $$\\\\n3     $$\\\\n...\\n5     0     0     $$\\\\n1     $$\\\\n2     $$\\\\n3     $$\\\\n...\\n6     0     0     $$\\\\n1     $$\\\\n2     $$\\\\n3     $$\\\\n...\\n7     0     0     $$\\\\n1     $$\\\\n2     $$\\\\n3     $$\\\\n...\\n8     0     0     $$\\\\n1     $$\\\\n2     $$\\\\n3     $$\\\\n...\\n9     0     0     $$\\\\n1     $$\\\\n2     $$\\\\n3     $$\\\\n...\\n10    0     0     $$\\\\n1     $$\\\\n2     $$\\\\n3     $$\\\\n...\\n11    0     0     $$\\\\n1     $$\\\\n2     $$\\\\n3     $$\\\\n...\\n12    0     0     $$\\\\n1     $$\\\\n2     $$\\\\n3     $$\\\\n...\\n13    0     0     $$\\\\n1     $$\\\\n2     $$\\\\n3     $$\\\\n...\\n14    0     0     $$\\\\n1     $$\\\\n2     $$\\\\n3     $$\\\\n...\\n15    0     0     $$\\\\n1     $$\\\\n2     $$\\\\n3     $$\\\\n...\\n16    0     0     $$\\\\n1     $$\\\\n2     $$\\\\n3     $$\\\\n...\\n17    0     0     $$\\\\n1     $$\\\\n2     $$\\\\n3     $$\\\\n...\\n18    0     0     $$\\\\n1     $$\\\\n2     $$\\\\n3     $$\\\\n...\\n19    0     0     $$\\\\n1     $$\\\\n2     $$\\\\n3     $$\\\\n...\\n20    0     0     $$\\\\n1     $$\\\\n2     $$\\\\n3     $$\\\\n...\\n21    0     0     $$\\\\n1     $$\\\\n2     $$\\\\n3     $$\\\\n...\\n22    0     0     $$\\\\n1     $$\\\\n2     $$\\\\n3     $$\\\\n...\\n23    0     0     $$\\\\n1     $$\\\\n2     $$\\\\n3     $$\\\\n...\\n25    0     0     $$\\\\n1     $$\\\\n2     $$\\\\n3     $$\\\\n...\\nName: price, dtype: object'"
     ]
    }
   ],
   "source": [
    "for i in df_clean['price']:\n",
    "    df_clean['price'] = len(str(df_clean.loc[i,df_clean['price']]))\n",
    "df_clean.head()\n",
    "# change the encoding to fix"
   ]
  },
  {
   "cell_type": "code",
   "execution_count": 50,
   "metadata": {},
   "outputs": [
    {
     "data": {
      "image/png": "[encoded data removed]",
      "text/plain": [
       "<Figure size 432x288 with 4 Axes>"
      ]
     },
     "metadata": {
      "needs_background": "light"
     },
     "output_type": "display_data"
    }
   ],
   "source": [
    "df_clean.hist();"
   ]
  },
  {
   "cell_type": "code",
   "execution_count": 51,
   "metadata": {},
   "outputs": [
    {
     "data": {
      "image/png": "[encoded data removed]",
      "text/plain": [
       "<Figure size 432x288 with 9 Axes>"
      ]
     },
     "metadata": {
      "needs_background": "light"
     },
     "output_type": "display_data"
    }
   ],
   "source": [
    "pd.plotting.scatter_matrix(df_clean);"
   ]
  },
  {
   "cell_type": "markdown",
   "metadata": {},
   "source": [
    "## Mapping\n",
    "\n",
    "Look at the initial Yelp example and try and make a map using Folium of the restaurants you retrieved. Be sure to also add popups to the markers giving some basic information such as name, rating and price."
   ]
  },
  {
   "cell_type": "code",
   "execution_count": 54,
   "metadata": {},
   "outputs": [
    {
     "data": {
      "text/html": [
       "<div style=\"width:100%;\"><div style=\"position:relative;width:100%;height:0;padding-bottom:60%;\"><iframe src=\"data:text/html;charset=utf-8;base64,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\" style=\"position:absolute;width:100%;height:100%;left:0;top:0;border:none !important;\" allowfullscreen webkitallowfullscreen mozallowfullscreen></iframe></div></div>"
      ],
      "text/plain": [
       "<folium.folium.Map at 0x18edc397a48>"
      ]
     },
     "execution_count": 54,
     "metadata": {},
     "output_type": "execute_result"
    }
   ],
   "source": [
    "# to improve, get lat and long from request and lat and long from df_clean\n",
    "import folium\n",
    "\n",
    "lat = -97.13\n",
    "long = 33.20\n",
    "\n",
    "#Create a map of the area\n",
    "base_map = folium.Map([lat, long])\n",
    "marker = folium.Marker(#input lat and longitude from df_clean)\n",
    "marker.add_to(base_map)\n",
    "base_map"
   ]
  },
  {
   "cell_type": "code",
   "execution_count": null,
   "metadata": {},
   "outputs": [],
   "source": [
    "marker = folium.Marker(location=[lat, long])\n",
    "marker.add_to(base_map)\n",
    "base_map"
   ]
  },
  {
   "cell_type": "markdown",
   "metadata": {},
   "source": [
    "## Summary\n",
    "\n",
    "Nice work! In this lab, you synthesized your skills for the day, making multiple API calls to Yelp in order to paginate through a results set, performing some basic exploratory analysis and then creating a nice map visual to display the results! Well done!"
   ]
  }
 ],
 "metadata": {
  "kernelspec": {
   "display_name": "Python 3",
   "language": "python",
   "name": "python3"
  },
  "language_info": {
   "codemirror_mode": {
    "name": "ipython",
    "version": 3
   },
   "file_extension": ".py",
   "mimetype": "text/x-python",
   "name": "python",
   "nbconvert_exporter": "python",
   "pygments_lexer": "ipython3",
   "version": "3.7.4"
  }
 },
 "nbformat": 4,
 "nbformat_minor": 2
}
